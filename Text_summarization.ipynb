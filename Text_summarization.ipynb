{
  "cells": [
    {
      "cell_type": "code",
      "execution_count": null,
      "metadata": {
        "id": "cNhmMQSiGnCy"
      },
      "outputs": [],
      "source": [
        "from nltk.corpus import stopwords\n",
        "from nltk.tokenize import word_tokenize, sent_tokenize"
      ]
    },
    {
      "cell_type": "code",
      "execution_count": null,
      "metadata": {
        "colab": {
          "base_uri": "https://localhost:8080/"
        },
        "id": "R9voZrslG-U3",
        "outputId": "9775995e-2b29-4fc6-8838-511eaa714e72"
      },
      "outputs": [
        {
          "name": "stderr",
          "output_type": "stream",
          "text": [
            "[nltk_data] Downloading package stopwords to /root/nltk_data...\n",
            "[nltk_data]   Package stopwords is already up-to-date!\n",
            "[nltk_data] Downloading package punkt to /root/nltk_data...\n",
            "[nltk_data]   Package punkt is already up-to-date!\n"
          ]
        },
        {
          "data": {
            "text/plain": [
              "True"
            ]
          },
          "execution_count": 36,
          "metadata": {},
          "output_type": "execute_result"
        }
      ],
      "source": [
        "import nltk\n",
        "nltk.download(\"stopwords\")\n",
        "nltk.download('punkt')\n"
      ]
    },
    {
      "cell_type": "code",
      "execution_count": null,
      "metadata": {
        "id": "Gw_2eYmWG-Sv"
      },
      "outputs": [],
      "source": [
        "#enter the text that needs to be summarized\n",
        "text=\"\"\"Sachin Ramesh Tendulkar, (/ˌsʌtʃɪn tɛnˈduːlkər/ ⓘ; pronounced [sətɕin teːɳɖulkəɾ]; born 24 April 1973) is an Indian former international cricketer who captained the Indian national team. He is widely regarded as one of the greatest batsmen in the history of cricket.[4] Hailed as the world's most prolific batsman of all time, he is the all-time highest run-scorer in both ODI and Test cricket with more than 18,000 runs and 15,000 runs, respectively.[5] He also holds the record for receiving the most man-of-the-match awards in international cricket.[6] Tendulkar was a Member of Parliament, Rajya Sabha by nomination from 2012 to 2018.[7][8]\n",
        "\n",
        "Tendulkar took up cricket at the age of eleven, made his Test match debut on 15 November 1989 against Pakistan in Karachi at the age of sixteen, and went on to represent Mumbai domestically and India internationally for over 24 years.[9] In 2002, halfway through his career, Wisden ranked him the second-greatest Test batsman of all time, behind Don Bradman, and the second-greatest ODI batsman of all time, behind Viv Richards.[10] The same year, Tendulkar was a part of the team that was one of the joint-winners of the 2002 ICC Champions Trophy. Later in his career, Tendulkar was part of the Indian team that won the 2011 Cricket World Cup, his first win in six World Cup appearances for India.[11] He had previously been named \"Player of the Tournament\" at the 2003 World Cup.\n",
        "\n",
        "Tendulkar has received several awards from the government of India: the Arjuna Award (1994), the Khel Ratna Award (1997), the Padma Shri (1998), and the Padma Vibhushan (2008).[12][13] After Tendulkar played his last match in November 2013, the Prime Minister's Office announced the decision to award him the Bharat Ratna, India's highest civilian award.[14][15] He was the first sportsperson to receive the reward and, as of 2023, is the youngest recipient.[16][17][18] In 2010, Time included Tendulkar in its annual list of the most influential people in the world.[19] Tendulkar was awarded the Sir Garfield Sobers Trophy for cricketer of the year at the 2010 International Cricket Council (ICC) Awards.[20]\n",
        "\n",
        "Having retired from ODI cricket in 2012,[21][22] he retired from all forms of cricket in November 2013 after playing his 200th Test match.[23] Tendulkar played 664 international cricket matches in total, scoring 34,357 runs.[24] In 2013, Tendulkar was included in an all-time Test World XI to mark the 150th anniversary of Wisden Cricketers' Almanack, and he was the only specialist batsman of the post–World War II era, along with Viv Richards, to get featured in the team.[25] In 2019, he was inducted into the ICC Cricket Hall of Fame.[26] On 24 April 2023, the Sydney Cricket Ground unveiled a set of gates named after Tendulkar and Brian Lara on the occasion of Tendulkar's 50th birthday and the 30th anniversary of Lara's inning of 277 at the ground\"\"\""
      ]
    },
    {
      "cell_type": "code",
      "execution_count": null,
      "metadata": {
        "colab": {
          "base_uri": "https://localhost:8080/"
        },
        "id": "blj1Ye4yG-Pz",
        "outputId": "7ff00942-b95d-47bd-dded-17732090d24c"
      },
      "outputs": [
        {
          "name": "stdout",
          "output_type": "stream",
          "text": [
            "{'ain', 'not', \"mightn't\", 'before', 'had', 'here', 'of', 'against', \"you'll\", \"it's\", 'under', \"needn't\", 'in', 'weren', 'these', 'didn', 'i', 'we', 're', 'yourselves', 'do', 'don', 'an', 'yourself', 'his', \"haven't\", 'is', 'below', 'll', 'down', 'own', \"won't\", 'm', 'what', 'no', \"she's\", 'am', 'from', 'aren', 'up', 'me', \"mustn't\", 'just', 'whom', 'ours', 'above', 'during', 'yours', 'nor', \"doesn't\", \"shan't\", 'at', 'itself', 'd', 'was', 'most', 'having', 'the', \"shouldn't\", 'my', 'doesn', \"you've\", 'there', 'off', 'again', \"couldn't\", 'further', 'why', \"should've\", 'has', 'ma', 'be', 'them', 'couldn', 'isn', 'needn', 'myself', 'after', \"didn't\", 'how', 'same', 'theirs', 'can', 'she', 'that', \"wouldn't\", 'mustn', 'more', 'doing', 'where', 'both', 'are', 'himself', 'this', 'once', 'with', \"don't\", 'those', 'your', 'some', \"you're\", \"hasn't\", 've', 'any', 'than', \"that'll\", 'should', 'ourselves', 'our', 'other', 'its', 'themselves', 'until', 'y', 'to', 'hadn', \"isn't\", 'haven', 'or', 'very', 'you', 'because', 'too', 'out', 'as', 'will', 'while', 'between', 'when', 'been', 'herself', 'their', 'a', 'over', 'him', \"hadn't\", 'for', 'wasn', 'few', 'all', 'hasn', 'and', 'her', 'did', 'then', 'but', 'mightn', 'through', \"wasn't\", 'now', 'shouldn', \"weren't\", 'which', 'about', 'each', 'shan', \"aren't\", 'only', 'wouldn', 'if', 'it', 't', 'won', 'were', 'have', 's', 'such', 'so', \"you'd\", 'does', 'he', 'who', 'on', 'being', 'hers', 'o', 'by', 'into', 'they'}\n"
          ]
        }
      ],
      "source": [
        "stopwords = set(stopwords.words(\"english\"))\n",
        "print(stopwords)"
      ]
    },
    {
      "cell_type": "code",
      "execution_count": null,
      "metadata": {
        "colab": {
          "base_uri": "https://localhost:8080/"
        },
        "id": "z1qmQK6xG-NB",
        "outputId": "2a8546f9-bb44-432e-bfeb-f8f3a20d8634"
      },
      "outputs": [
        {
          "name": "stdout",
          "output_type": "stream",
          "text": [
            "['Sachin', 'Ramesh', 'Tendulkar', ',', '(', '/ˌsʌtʃɪn', 'tɛnˈduːlkər/', 'ⓘ', ';', 'pronounced', '[', 'sətɕin', 'teːɳɖulkəɾ', ']', ';', 'born', '24', 'April', '1973', ')', 'is', 'an', 'Indian', 'former', 'international', 'cricketer', 'who', 'captained', 'the', 'Indian', 'national', 'team', '.', 'He', 'is', 'widely', 'regarded', 'as', 'one', 'of', 'the', 'greatest', 'batsmen', 'in', 'the', 'history', 'of', 'cricket', '.', '[', '4', ']', 'Hailed', 'as', 'the', 'world', \"'s\", 'most', 'prolific', 'batsman', 'of', 'all', 'time', ',', 'he', 'is', 'the', 'all-time', 'highest', 'run-scorer', 'in', 'both', 'ODI', 'and', 'Test', 'cricket', 'with', 'more', 'than', '18,000', 'runs', 'and', '15,000', 'runs', ',', 'respectively', '.', '[', '5', ']', 'He', 'also', 'holds', 'the', 'record', 'for', 'receiving', 'the', 'most', 'man-of-the-match', 'awards', 'in', 'international', 'cricket', '.', '[', '6', ']', 'Tendulkar', 'was', 'a', 'Member', 'of', 'Parliament', ',', 'Rajya', 'Sabha', 'by', 'nomination', 'from', '2012', 'to', '2018', '.', '[', '7', ']', '[', '8', ']', 'Tendulkar', 'took', 'up', 'cricket', 'at', 'the', 'age', 'of', 'eleven', ',', 'made', 'his', 'Test', 'match', 'debut', 'on', '15', 'November', '1989', 'against', 'Pakistan', 'in', 'Karachi', 'at', 'the', 'age', 'of', 'sixteen', ',', 'and', 'went', 'on', 'to', 'represent', 'Mumbai', 'domestically', 'and', 'India', 'internationally', 'for', 'over', '24', 'years', '.', '[', '9', ']', 'In', '2002', ',', 'halfway', 'through', 'his', 'career', ',', 'Wisden', 'ranked', 'him', 'the', 'second-greatest', 'Test', 'batsman', 'of', 'all', 'time', ',', 'behind', 'Don', 'Bradman', ',', 'and', 'the', 'second-greatest', 'ODI', 'batsman', 'of', 'all', 'time', ',', 'behind', 'Viv', 'Richards', '.', '[', '10', ']', 'The', 'same', 'year', ',', 'Tendulkar', 'was', 'a', 'part', 'of', 'the', 'team', 'that', 'was', 'one', 'of', 'the', 'joint-winners', 'of', 'the', '2002', 'ICC', 'Champions', 'Trophy', '.', 'Later', 'in', 'his', 'career', ',', 'Tendulkar', 'was', 'part', 'of', 'the', 'Indian', 'team', 'that', 'won', 'the', '2011', 'Cricket', 'World', 'Cup', ',', 'his', 'first', 'win', 'in', 'six', 'World', 'Cup', 'appearances', 'for', 'India', '.', '[', '11', ']', 'He', 'had', 'previously', 'been', 'named', '``', 'Player', 'of', 'the', 'Tournament', \"''\", 'at', 'the', '2003', 'World', 'Cup', '.', 'Tendulkar', 'has', 'received', 'several', 'awards', 'from', 'the', 'government', 'of', 'India', ':', 'the', 'Arjuna', 'Award', '(', '1994', ')', ',', 'the', 'Khel', 'Ratna', 'Award', '(', '1997', ')', ',', 'the', 'Padma', 'Shri', '(', '1998', ')', ',', 'and', 'the', 'Padma', 'Vibhushan', '(', '2008', ')', '.', '[', '12', ']', '[', '13', ']', 'After', 'Tendulkar', 'played', 'his', 'last', 'match', 'in', 'November', '2013', ',', 'the', 'Prime', 'Minister', \"'s\", 'Office', 'announced', 'the', 'decision', 'to', 'award', 'him', 'the', 'Bharat', 'Ratna', ',', 'India', \"'s\", 'highest', 'civilian', 'award', '.', '[', '14', ']', '[', '15', ']', 'He', 'was', 'the', 'first', 'sportsperson', 'to', 'receive', 'the', 'reward', 'and', ',', 'as', 'of', '2023', ',', 'is', 'the', 'youngest', 'recipient', '.', '[', '16', ']', '[', '17', ']', '[', '18', ']', 'In', '2010', ',', 'Time', 'included', 'Tendulkar', 'in', 'its', 'annual', 'list', 'of', 'the', 'most', 'influential', 'people', 'in', 'the', 'world', '.', '[', '19', ']', 'Tendulkar', 'was', 'awarded', 'the', 'Sir', 'Garfield', 'Sobers', 'Trophy', 'for', 'cricketer', 'of', 'the', 'year', 'at', 'the', '2010', 'International', 'Cricket', 'Council', '(', 'ICC', ')', 'Awards', '.', '[', '20', ']', 'Having', 'retired', 'from', 'ODI', 'cricket', 'in', '2012', ',', '[', '21', ']', '[', '22', ']', 'he', 'retired', 'from', 'all', 'forms', 'of', 'cricket', 'in', 'November', '2013', 'after', 'playing', 'his', '200th', 'Test', 'match', '.', '[', '23', ']', 'Tendulkar', 'played', '664', 'international', 'cricket', 'matches', 'in', 'total', ',', 'scoring', '34,357', 'runs', '.', '[', '24', ']', 'In', '2013', ',', 'Tendulkar', 'was', 'included', 'in', 'an', 'all-time', 'Test', 'World', 'XI', 'to', 'mark', 'the', '150th', 'anniversary', 'of', 'Wisden', 'Cricketers', \"'\", 'Almanack', ',', 'and', 'he', 'was', 'the', 'only', 'specialist', 'batsman', 'of', 'the', 'post–World', 'War', 'II', 'era', ',', 'along', 'with', 'Viv', 'Richards', ',', 'to', 'get', 'featured', 'in', 'the', 'team', '.', '[', '25', ']', 'In', '2019', ',', 'he', 'was', 'inducted', 'into', 'the', 'ICC', 'Cricket', 'Hall', 'of', 'Fame', '.', '[', '26', ']', 'On', '24', 'April', '2023', ',', 'the', 'Sydney', 'Cricket', 'Ground', 'unveiled', 'a', 'set', 'of', 'gates', 'named', 'after', 'Tendulkar', 'and', 'Brian', 'Lara', 'on', 'the', 'occasion', 'of', 'Tendulkar', \"'s\", '50th', 'birthday', 'and', 'the', '30th', 'anniversary', 'of', 'Lara', \"'s\", 'inning', 'of', '277', 'at', 'the', 'ground']\n"
          ]
        }
      ],
      "source": [
        "words=word_tokenize(text)\n",
        "print(words)"
      ]
    },
    {
      "cell_type": "code",
      "execution_count": null,
      "metadata": {
        "id": "HFZh0TRPG-Kf"
      },
      "outputs": [],
      "source": [
        "freqTable = dict()"
      ]
    },
    {
      "cell_type": "code",
      "execution_count": null,
      "metadata": {
        "colab": {
          "base_uri": "https://localhost:8080/"
        },
        "id": "OVVMNPdnIonv",
        "outputId": "4a346976-4cd1-4142-c47a-c17ff03c0681"
      },
      "outputs": [
        {
          "name": "stdout",
          "output_type": "stream",
          "text": [
            "{'sachin': 1, 'ramesh': 1, 'tendulkar': 13, ',': 30, '(': 6, '/ˌsʌtʃɪn': 1, 'tɛnˈduːlkər/': 1, 'ⓘ': 1, ';': 2, 'pronounced': 1, '[': 24, 'sətɕin': 1, 'teːɳɖulkəɾ': 1, ']': 24, 'born': 1, '24': 4, 'april': 2, '1973': 1, ')': 6, 'indian': 3, 'former': 1, 'international': 4, 'cricketer': 2, 'captained': 1, 'national': 1, 'team': 4, '.': 19, 'widely': 1, 'regarded': 1, 'one': 2, 'greatest': 1, 'batsmen': 1, 'history': 1, 'cricket': 11, '4': 1, 'hailed': 1, 'world': 6, \"'s\": 5, 'prolific': 1, 'batsman': 4, 'time': 4, 'all-time': 2, 'highest': 2, 'run-scorer': 1, 'odi': 3, 'test': 5, '18,000': 1, 'runs': 3, '15,000': 1, 'respectively': 1, '5': 1, 'also': 1, 'holds': 1, 'record': 1, 'receiving': 1, 'man-of-the-match': 1, 'awards': 3, '6': 1, 'member': 1, 'parliament': 1, 'rajya': 1, 'sabha': 1, 'nomination': 1, '2012': 2, '2018': 1, '7': 1, '8': 1, 'took': 1, 'age': 2, 'eleven': 1, 'made': 1, 'match': 3, 'debut': 1, '15': 2, 'november': 3, '1989': 1, 'pakistan': 1, 'karachi': 1, 'sixteen': 1, 'went': 1, 'represent': 1, 'mumbai': 1, 'domestically': 1, 'india': 4, 'internationally': 1, 'years': 1, '9': 1, '2002': 2, 'halfway': 1, 'career': 2, 'wisden': 2, 'ranked': 1, 'second-greatest': 2, 'behind': 2, 'bradman': 1, 'viv': 2, 'richards': 2, '10': 1, 'year': 2, 'part': 2, 'joint-winners': 1, 'icc': 3, 'champions': 1, 'trophy': 2, 'later': 1, '2011': 1, 'cup': 3, 'first': 2, 'win': 1, 'six': 1, 'appearances': 1, '11': 1, 'previously': 1, 'named': 2, '``': 1, 'player': 1, 'tournament': 1, \"''\": 1, '2003': 1, 'received': 1, 'several': 1, 'government': 1, ':': 1, 'arjuna': 1, 'award': 4, '1994': 1, 'khel': 1, 'ratna': 2, '1997': 1, 'padma': 2, 'shri': 1, '1998': 1, 'vibhushan': 1, '2008': 1, '12': 1, '13': 1, 'played': 2, 'last': 1, '2013': 3, 'prime': 1, 'minister': 1, 'office': 1, 'announced': 1, 'decision': 1, 'bharat': 1, 'civilian': 1, '14': 1, 'sportsperson': 1, 'receive': 1, 'reward': 1, '2023': 2, 'youngest': 1, 'recipient': 1, '16': 1, '17': 1, '18': 1, '2010': 2, 'included': 2, 'annual': 1, 'list': 1, 'influential': 1, 'people': 1, '19': 1, 'awarded': 1, 'sir': 1, 'garfield': 1, 'sobers': 1, 'council': 1, '20': 1, 'retired': 2, '21': 1, '22': 1, 'forms': 1, 'playing': 1, '200th': 1, '23': 1, '664': 1, 'matches': 1, 'total': 1, 'scoring': 1, '34,357': 1, 'xi': 1, 'mark': 1, '150th': 1, 'anniversary': 2, 'cricketers': 1, \"'\": 1, 'almanack': 1, 'specialist': 1, 'post–world': 1, 'war': 1, 'ii': 1, 'era': 1, 'along': 1, 'get': 1, 'featured': 1, '25': 1, '2019': 1, 'inducted': 1, 'hall': 1, 'fame': 1, '26': 1, 'sydney': 1, 'ground': 2, 'unveiled': 1, 'set': 1, 'gates': 1, 'brian': 1, 'lara': 2, 'occasion': 1, '50th': 1, 'birthday': 1, '30th': 1, 'inning': 1, '277': 1}\n"
          ]
        }
      ],
      "source": [
        "#creating a frequency table that keeps the count of words tha have been repetedly used\n",
        "freqTable = dict()\n",
        "for word in words:\n",
        "  word = word.lower()\n",
        "  if word in stopwords:\n",
        "    continue\n",
        "  if word in freqTable:\n",
        "    freqTable[word] += 1\n",
        "  else:\n",
        "    freqTable[word] = 1\n",
        "\n",
        "print(freqTable)\n"
      ]
    },
    {
      "cell_type": "code",
      "execution_count": null,
      "metadata": {
        "colab": {
          "base_uri": "https://localhost:8080/"
        },
        "id": "eauXaMlpIok9",
        "outputId": "82878461-2226-42ff-d715-0bd26f94e00d"
      },
      "outputs": [
        {
          "name": "stdout",
          "output_type": "stream",
          "text": [
            "['Sachin Ramesh Tendulkar, (/ˌsʌtʃɪn tɛnˈduːlkər/ ⓘ; pronounced [sətɕin teːɳɖulkəɾ]; born 24 April 1973) is an Indian former international cricketer who captained the Indian national team.', 'He is widely regarded as one of the greatest batsmen in the history of cricket.', \"[4] Hailed as the world's most prolific batsman of all time, he is the all-time highest run-scorer in both ODI and Test cricket with more than 18,000 runs and 15,000 runs, respectively.\", '[5] He also holds the record for receiving the most man-of-the-match awards in international cricket.', '[6] Tendulkar was a Member of Parliament, Rajya Sabha by nomination from 2012 to 2018.', '[7][8]\\n\\nTendulkar took up cricket at the age of eleven, made his Test match debut on 15 November 1989 against Pakistan in Karachi at the age of sixteen, and went on to represent Mumbai domestically and India internationally for over 24 years.', '[9] In 2002, halfway through his career, Wisden ranked him the second-greatest Test batsman of all time, behind Don Bradman, and the second-greatest ODI batsman of all time, behind Viv Richards.', '[10] The same year, Tendulkar was a part of the team that was one of the joint-winners of the 2002 ICC Champions Trophy.', 'Later in his career, Tendulkar was part of the Indian team that won the 2011 Cricket World Cup, his first win in six World Cup appearances for India.', '[11] He had previously been named \"Player of the Tournament\" at the 2003 World Cup.', 'Tendulkar has received several awards from the government of India: the Arjuna Award (1994), the Khel Ratna Award (1997), the Padma Shri (1998), and the Padma Vibhushan (2008).', \"[12][13] After Tendulkar played his last match in November 2013, the Prime Minister's Office announced the decision to award him the Bharat Ratna, India's highest civilian award.\", '[14][15] He was the first sportsperson to receive the reward and, as of 2023, is the youngest recipient.', '[16][17][18] In 2010, Time included Tendulkar in its annual list of the most influential people in the world.', '[19] Tendulkar was awarded the Sir Garfield Sobers Trophy for cricketer of the year at the 2010 International Cricket Council (ICC) Awards.', '[20]\\n\\nHaving retired from ODI cricket in 2012,[21][22] he retired from all forms of cricket in November 2013 after playing his 200th Test match.', '[23] Tendulkar played 664 international cricket matches in total, scoring 34,357 runs.', \"[24] In 2013, Tendulkar was included in an all-time Test World XI to mark the 150th anniversary of Wisden Cricketers' Almanack, and he was the only specialist batsman of the post–World War II era, along with Viv Richards, to get featured in the team.\", '[25] In 2019, he was inducted into the ICC Cricket Hall of Fame.', \"[26] On 24 April 2023, the Sydney Cricket Ground unveiled a set of gates named after Tendulkar and Brian Lara on the occasion of Tendulkar's 50th birthday and the 30th anniversary of Lara's inning of 277 at the ground\"]\n"
          ]
        }
      ],
      "source": [
        "#creating a dictionary to keep the score of each word that has been repeted\n",
        "sentences = sent_tokenize(text)\n",
        "print(sentences)"
      ]
    },
    {
      "cell_type": "code",
      "execution_count": null,
      "metadata": {
        "colab": {
          "base_uri": "https://localhost:8080/",
          "height": 53
        },
        "id": "3SDOkQzuIoid",
        "outputId": "494fe66d-9add-4d1c-9326-fa07bb3f23a4"
      },
      "outputs": [
        {
          "data": {
            "application/vnd.google.colaboratory.intrinsic+json": {
              "type": "string"
            },
            "text/plain": [
              "'Sachin Ramesh Tendulkar, (/ˌsʌtʃɪn tɛnˈduːlkər/ ⓘ; pronounced [sətɕin teːɳɖulkəɾ]; born 24 April 1973) is an Indian former international cricketer who captained the Indian national team.'"
            ]
          },
          "execution_count": 43,
          "metadata": {},
          "output_type": "execute_result"
        }
      ],
      "source": [
        "sentences[0]"
      ]
    },
    {
      "cell_type": "code",
      "execution_count": null,
      "metadata": {
        "colab": {
          "base_uri": "https://localhost:8080/"
        },
        "id": "KbL0QtXgIofg",
        "outputId": "da69c553-4be4-4908-f1de-8e2a5f2adf06"
      },
      "outputs": [
        {
          "name": "stdout",
          "output_type": "stream",
          "text": [
            "{'Sachin Ramesh Tendulkar, (/ˌsʌtʃɪn tɛnˈduːlkər/ ⓘ; pronounced [sətɕin teːɳɖulkəɾ]; born 24 April 1973) is an Indian former international cricketer who captained the Indian national team.': 175, 'He is widely regarded as one of the greatest batsmen in the history of cricket.': 42, \"[4] Hailed as the world's most prolific batsman of all time, he is the all-time highest run-scorer in both ODI and Test cricket with more than 18,000 runs and 15,000 runs, respectively.\": 155, '[5] He also holds the record for receiving the most man-of-the-match awards in international cricket.': 100, '[6] Tendulkar was a Member of Parliament, Rajya Sabha by nomination from 2012 to 2018.': 123, '[7][8]\\n\\nTendulkar took up cricket at the age of eleven, made his Test match debut on 15 November 1989 against Pakistan in Karachi at the age of sixteen, and went on to represent Mumbai domestically and India internationally for over 24 years.': 172, '[9] In 2002, halfway through his career, Wisden ranked him the second-greatest Test batsman of all time, behind Don Bradman, and the second-greatest ODI batsman of all time, behind Viv Richards.': 133, '[10] The same year, Tendulkar was a part of the team that was one of the joint-winners of the 2002 ICC Champions Trophy.': 132, 'Later in his career, Tendulkar was part of the Indian team that won the 2011 Cricket World Cup, his first win in six World Cup appearances for India.': 106, '[11] He had previously been named \"Player of the Tournament\" at the 2003 World Cup.': 84, 'Tendulkar has received several awards from the government of India: the Arjuna Award (1994), the Khel Ratna Award (1997), the Padma Shri (1998), and the Padma Vibhushan (2008).': 110, \"[12][13] After Tendulkar played his last match in November 2013, the Prime Minister's Office announced the decision to award him the Bharat Ratna, India's highest civilian award.\": 151, '[14][15] He was the first sportsperson to receive the reward and, as of 2023, is the youngest recipient.': 114, '[16][17][18] In 2010, Time included Tendulkar in its annual list of the most influential people in the world.': 136, '[19] Tendulkar was awarded the Sir Garfield Sobers Trophy for cricketer of the year at the 2010 International Cricket Council (ICC) Awards.': 136, '[20]\\n\\nHaving retired from ODI cricket in 2012,[21][22] he retired from all forms of cricket in November 2013 after playing his 200th Test match.': 137, '[23] Tendulkar played 664 international cricket matches in total, scoring 34,357 runs.': 144, \"[24] In 2013, Tendulkar was included in an all-time Test World XI to mark the 150th anniversary of Wisden Cricketers' Almanack, and he was the only specialist batsman of the post–World War II era, along with Viv Richards, to get featured in the team.\": 187, '[25] In 2019, he was inducted into the ICC Cricket Hall of Fame.': 120, \"[26] On 24 April 2023, the Sydney Cricket Ground unveiled a set of gates named after Tendulkar and Brian Lara on the occasion of Tendulkar's 50th birthday and the 30th anniversary of Lara's inning of 277 at the ground\": 142}\n"
          ]
        }
      ],
      "source": [
        "def getsentenceValue():\n",
        "  sentenceValue = dict()\n",
        "  for sentence in sentences:\n",
        "    for word, freq in freqTable.items():\n",
        "      if word in sentence.lower():\n",
        "        if sentence in sentenceValue:\n",
        "          sentenceValue[sentence] += freq\n",
        "        else:\n",
        "          sentenceValue[sentence] = freq\n",
        "  return sentenceValue\n",
        "  print(sentenceValue)\n",
        "\n",
        "sentenceValue = getsentenceValue()\n",
        "print(sentenceValue)"
      ]
    },
    {
      "cell_type": "code",
      "execution_count": null,
      "metadata": {
        "colab": {
          "base_uri": "https://localhost:8080/"
        },
        "id": "4POmvN0TIoc7",
        "outputId": "6a0d6248-1c47-4ba5-d39d-065c4e0d75e4"
      },
      "outputs": [
        {
          "name": "stdout",
          "output_type": "stream",
          "text": [
            "129\n"
          ]
        }
      ],
      "source": [
        "def getsumValues():\n",
        "  sumValues = 0\n",
        "  for sentence in sentences:\n",
        "    sumValues += sentenceValue[sentence]\n",
        "\n",
        "  #average value of a sentence from input text\n",
        "\n",
        "  average = int(sumValues / len(sentenceValue))\n",
        "  return average\n",
        "\n",
        "average = getsumValues()\n",
        "print(average)"
      ]
    },
    {
      "cell_type": "code",
      "execution_count": null,
      "metadata": {
        "colab": {
          "base_uri": "https://localhost:8080/"
        },
        "id": "pEYV96K_O1xU",
        "outputId": "956040c4-ceaf-47ac-db8e-708938fa534d"
      },
      "outputs": [
        {
          "name": "stdout",
          "output_type": "stream",
          "text": [
            " Sachin Ramesh Tendulkar, (/ˌsʌtʃɪn tɛnˈduːlkər/ ⓘ; pronounced [sətɕin teːɳɖulkəɾ]; born 24 April 1973) is an Indian former international cricketer who captained the Indian national team. [4] Hailed as the world's most prolific batsman of all time, he is the all-time highest run-scorer in both ODI and Test cricket with more than 18,000 runs and 15,000 runs, respectively. [7][8]\n",
            "\n",
            "Tendulkar took up cricket at the age of eleven, made his Test match debut on 15 November 1989 against Pakistan in Karachi at the age of sixteen, and went on to represent Mumbai domestically and India internationally for over 24 years. [24] In 2013, Tendulkar was included in an all-time Test World XI to mark the 150th anniversary of Wisden Cricketers' Almanack, and he was the only specialist batsman of the post–World War II era, along with Viv Richards, to get featured in the team.\n"
          ]
        }
      ],
      "source": [
        "#storing sentence into our  summary based on the sentence score where score is somewhat greater than average\n",
        "summary = ''\n",
        "for sentence in sentences:\n",
        "  if(sentenceValue) and (sentenceValue[sentence] > (1.2 * average)):\n",
        "    summary +=\" \" + sentence\n",
        "print(summary)"
      ]
    },
    {
      "cell_type": "code",
      "execution_count": null,
      "metadata": {
        "id": "vLNlAEAzO1up"
      },
      "outputs": [],
      "source": []
    },
    {
      "cell_type": "code",
      "execution_count": null,
      "metadata": {
        "id": "7AOahUwIO1r_"
      },
      "outputs": [],
      "source": []
    }
  ],
  "metadata": {
    "colab": {
      "provenance": []
    },
    "kernelspec": {
      "display_name": "Python 3",
      "name": "python3"
    },
    "language_info": {
      "name": "python"
    }
  },
  "nbformat": 4,
  "nbformat_minor": 0
}
